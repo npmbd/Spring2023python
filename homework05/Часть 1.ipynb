{
 "cells": [
  {
   "cell_type": "code",
   "execution_count": 78,
   "id": "6c0100b3",
   "metadata": {},
   "outputs": [
    {
     "name": "stdout",
     "output_type": "stream",
     "text": [
      "1 2 3 4 5\n",
      "1 3 5\n"
     ]
    }
   ],
   "source": [
    "# 1\n",
    "print(' '.join(input().split()[::2]))"
   ]
  },
  {
   "cell_type": "code",
   "execution_count": 79,
   "id": "b486c569",
   "metadata": {},
   "outputs": [
    {
     "name": "stdout",
     "output_type": "stream",
     "text": [
      "1 2 3 2 1\n",
      "3 2\n"
     ]
    }
   ],
   "source": [
    "# 2\n",
    "x = list(map(int, input().split()))\n",
    "print(max(x), x.index(max(x)))"
   ]
  },
  {
   "cell_type": "code",
   "execution_count": 80,
   "id": "c1c1de9d",
   "metadata": {},
   "outputs": [
    {
     "name": "stdout",
     "output_type": "stream",
     "text": [
      "1 2 3 4 5\n",
      "5 4 3 2 1\n"
     ]
    }
   ],
   "source": [
    "# 3\n",
    "print(' '.join(input().split()[::-1]))"
   ]
  },
  {
   "cell_type": "code",
   "execution_count": 195,
   "id": "06d42d0e",
   "metadata": {
    "scrolled": true
   },
   "outputs": [
    {
     "name": "stdout",
     "output_type": "stream",
     "text": [
      "1 2 3 4 5\n",
      "['2', '1', '4', '3', '5']\n"
     ]
    }
   ],
   "source": [
    "# 4\n",
    "a = input().split()\n",
    "list(map(lambda x: a.insert(a.index(x) - 1, x), a[1::2]))\n",
    "list(map(lambda x: a.pop(a.index(x, a.index(x)+1, len(a))), a[2::3])) and print(a)"
   ]
  },
  {
   "cell_type": "code",
   "execution_count": 81,
   "id": "7e88ef65",
   "metadata": {},
   "outputs": [
    {
     "name": "stdout",
     "output_type": "stream",
     "text": [
      "1 2 3 4 5\n"
     ]
    },
    {
     "data": {
      "text/plain": [
       "['5', '1', '2', '3', '4']"
      ]
     },
     "execution_count": 81,
     "metadata": {},
     "output_type": "execute_result"
    }
   ],
   "source": [
    "# 5\n",
    "a = input().split()\n",
    "list(a[-1]) + a[:-1]"
   ]
  },
  {
   "cell_type": "code",
   "execution_count": 48,
   "id": "724f3902",
   "metadata": {},
   "outputs": [
    {
     "name": "stdout",
     "output_type": "stream",
     "text": [
      "7 6 5 4 3 2 1\n",
      "2\n"
     ]
    },
    {
     "data": {
      "text/plain": [
       "['7', '6', '4', '3', '2', '1']"
      ]
     },
     "execution_count": 48,
     "metadata": {},
     "output_type": "execute_result"
    }
   ],
   "source": [
    "# 6\n",
    "a = input().split()\n",
    "b = input()\n",
    "a.pop(int(b)) and a"
   ]
  },
  {
   "cell_type": "code",
   "execution_count": 61,
   "id": "731ffad7",
   "metadata": {},
   "outputs": [
    {
     "name": "stdout",
     "output_type": "stream",
     "text": [
      "7 6 5 4 3 2 1\n",
      "2 0\n"
     ]
    },
    {
     "data": {
      "text/plain": [
       "['7', '6', 0, '5', '4', '3', '2', '1']"
      ]
     },
     "execution_count": 61,
     "metadata": {},
     "output_type": "execute_result"
    }
   ],
   "source": [
    "# 7\n",
    "a = input().split()\n",
    "n, elem = map(int, input().split())\n",
    "not(a.insert(n, elem)) and a"
   ]
  },
  {
   "cell_type": "code",
   "execution_count": 77,
   "id": "04c890d8",
   "metadata": {},
   "outputs": [
    {
     "name": "stdout",
     "output_type": "stream",
     "text": [
      "5 3 7 4 6\n",
      "3\n"
     ]
    },
    {
     "data": {
      "text/plain": [
       "['7', '4', '6', '5', '3']"
      ]
     },
     "execution_count": 77,
     "metadata": {},
     "output_type": "execute_result"
    }
   ],
   "source": [
    "# 8\n",
    "a = input().split() + input().split()\n",
    "a[-int(a[-1])-1:-1] + a[:-int(a[-1])-1]"
   ]
  }
 ],
 "metadata": {
  "kernelspec": {
   "display_name": "Python 3 (ipykernel)",
   "language": "python",
   "name": "python3"
  },
  "language_info": {
   "codemirror_mode": {
    "name": "ipython",
    "version": 3
   },
   "file_extension": ".py",
   "mimetype": "text/x-python",
   "name": "python",
   "nbconvert_exporter": "python",
   "pygments_lexer": "ipython3",
   "version": "3.11.3"
  }
 },
 "nbformat": 4,
 "nbformat_minor": 5
}
